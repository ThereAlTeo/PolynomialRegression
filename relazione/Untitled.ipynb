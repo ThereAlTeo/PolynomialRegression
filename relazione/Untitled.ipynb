{
 "cells": [
  {
   "cell_type": "markdown",
   "metadata": {},
   "source": [
    "# Progetto di Applicazioni Data Intensive 2018/2019\n",
    "\n",
    "\n"
   ]
  },
  {
   "cell_type": "markdown",
   "metadata": {},
   "source": [
    "## Descrizione del problema"
   ]
  },
  {
   "cell_type": "markdown",
   "metadata": {},
   "source": [
    "Il problema da noi analizzato si pone l'obbiettivo di prevedere per conto di una società che effettua bike sharing (ossia una forma di affitto di biciclette automatizzato) il numero di biciclette che saranno affittate durante una giornata che presenta determinate caratteristiche."
   ]
  },
  {
   "cell_type": "markdown",
   "metadata": {},
   "source": [
    "Il dataset denominato \"Bike Sharing Data Set\" è stato scaricato dal sito https://archive.ics.uci.edu/ml e si compone di 17389 istanze, 16 diversi attributi di cui 2 identificatori e 3 possibili soggetti di predizione."
   ]
  },
  {
   "cell_type": "code",
   "execution_count": 22,
   "metadata": {},
   "outputs": [],
   "source": [
    "import os.path\n",
    "import csv\n",
    "import pandas as pd\n",
    "if os.path.exists(\"day.csv\"):\n",
    "    dataset = pd.read_csv(\"day.csv\", sep=\",\")\n",
    "else:\n",
    "    print(\"File non trovato\")\n"
   ]
  },
  {
   "cell_type": "code",
   "execution_count": 23,
   "metadata": {},
   "outputs": [
    {
     "data": {
      "text/plain": [
       "16"
      ]
     },
     "execution_count": 23,
     "metadata": {},
     "output_type": "execute_result"
    }
   ],
   "source": [
    "len(dataset.columns)\n"
   ]
  },
  {
   "cell_type": "markdown",
   "metadata": {},
   "source": [
    "### Descrizione variabili\n"
   ]
  },
  {
   "cell_type": "markdown",
   "metadata": {},
   "source": [
    "__instant__: indice dei record.<br>\n",
    "__dteday__: data.<br>\n",
    "__season__: stagione<br>\n",
    "__yr__:  anno (0: 2011, 1: 2012) <br> \n",
    "__mnth__: mese (1 - 12) <br>\n",
    "__holiday__: giorno festivo (1: si, 0: no)<br>\n",
    "__weekday__: giorno della settimana (0 - 6)<br>\n",
    "__workingaday__: se il giorno è festivo o appartiene al weekend 0, altrimenti 1<br>\n",
    "__wheathersit__: condizioni meteo generali della giornata:\n",
    "* 1: soleggiato, poco nuvoloso\n",
    "* 2: nuvoloso, nebbia\n",
    "* 3: leggera neve, leggera pioggia\n",
    "* 4: neve, pioggia, fulmini <br> <br>\n",
    "__temp__: temperatura media giornaliera (C) normalizzata. Valori divisi per 41. <br>\n",
    "__atemp__: temperatura perepita (°C) normaizzata. Valori divisi per 50<br>\n",
    "__hum__: percentuale di umidità<br>\n",
    "__windspeed__: velocità del vento normalizzata, Valori divisi per 67. <br>\n",
    "__casual__: numero di utenti casuali<br>\n",
    "__registered__: numero di utenti registrati<br>\n",
    "__cnt__: numero di utenti totali<br>"
   ]
  },
  {
   "cell_type": "markdown",
   "metadata": {},
   "source": [
    "La variabile che abbiamo scelto per effettuare la predizione è la variabile \"cnt\" i quanto a fini di ricerca di mercato è la variabile che più interessa. escludendo dagli attributi le colonne \"casual\" e \"registered\" che di cui \"cnt\" è la somma."
   ]
  },
  {
   "cell_type": "markdown",
   "metadata": {},
   "source": [
    "## Analisi esplorativa"
   ]
  },
  {
   "cell_type": "code",
   "execution_count": null,
   "metadata": {},
   "outputs": [],
   "source": []
  }
 ],
 "metadata": {
  "kernelspec": {
   "display_name": "Python 3",
   "language": "python",
   "name": "python3"
  },
  "language_info": {
   "codemirror_mode": {
    "name": "ipython",
    "version": 3
   },
   "file_extension": ".py",
   "mimetype": "text/x-python",
   "name": "python",
   "nbconvert_exporter": "python",
   "pygments_lexer": "ipython3",
   "version": "3.6.0"
  }
 },
 "nbformat": 4,
 "nbformat_minor": 2
}
